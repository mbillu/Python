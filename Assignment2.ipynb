{
 "cells": [
  {
   "cell_type": "code",
   "execution_count": 154,
   "metadata": {},
   "outputs": [
    {
     "name": "stdout",
     "output_type": "stream",
     "text": [
      "15\n",
      "None\n"
     ]
    }
   ],
   "source": [
    "#Task1 1.1 (for user-defined function)\n",
    "\n",
    "from functools import reduce\n",
    "\n",
    "\n",
    "def func_name(x,y):\n",
    "    return x+y\n",
    "\n",
    "\n",
    "def myreduce(f_name,l):\n",
    "    if len(l)==0:\n",
    "        return None\n",
    "    \n",
    "    res=l[0]\n",
    "    for i in range(1,len(l)):\n",
    "        res=f_name(res,l[i])\n",
    "        \n",
    "    return res\n",
    "\n",
    "\n",
    "print(myreduce(func_name,[2,1,5,7])) #Addition of list elements\n",
    "print(myreduce(func_name,[]))"
   ]
  },
  {
   "cell_type": "code",
   "execution_count": 40,
   "metadata": {},
   "outputs": [
    {
     "name": "stdout",
     "output_type": "stream",
     "text": [
      "None\n",
      "-11\n",
      "70\n",
      "0.05714285714285715\n"
     ]
    }
   ],
   "source": [
    "#Task1 1.1 (for lambda function)\n",
    "\n",
    "def myreduce(f_name,*args):\n",
    "    if len(args) == 0:\n",
    "        return None\n",
    "    \n",
    "    res=args[0]\n",
    "    for i in range(1, len(args)):\n",
    "        res=f_name(res,args[i])\n",
    "        \n",
    "    return res\n",
    "\n",
    "\n",
    "print(myreduce(lambda a,b: a+b))           \n",
    "print(myreduce(lambda a,b: a-b, 2,1,5,7))        \n",
    "print(myreduce(lambda a,b: a*b, 2,1,5,7))\n",
    "print(myreduce(lambda a,b: a/b, 2,1,5,7))"
   ]
  },
  {
   "cell_type": "code",
   "execution_count": 6,
   "metadata": {},
   "outputs": [
    {
     "name": "stdout",
     "output_type": "stream",
     "text": [
      "[2, 8]\n",
      "None\n"
     ]
    }
   ],
   "source": [
    "#Task1 1.2 (for user-defined function)\n",
    "\n",
    "def func_name(x):\n",
    "    if x%2==0:\n",
    "        return True\n",
    "\n",
    "\n",
    "def myfilter(f_name,l):\n",
    "    if len(l)==0:\n",
    "        return None\n",
    "    \n",
    "    res=[]\n",
    "    for i in l:\n",
    "        if f_name(i):\n",
    "            res.append(i)\n",
    "        \n",
    "    return res\n",
    "\n",
    "\n",
    "print(myfilter(func_name,[2,1,5,7,8])) #Addition of list elements\n",
    "print(myfilter(func_name,[]))"
   ]
  },
  {
   "cell_type": "code",
   "execution_count": 14,
   "metadata": {},
   "outputs": [
    {
     "name": "stdout",
     "output_type": "stream",
     "text": [
      "[True, False, False, False, True]\n",
      "None\n"
     ]
    }
   ],
   "source": [
    "#Task1 1.2 (for lambda function)\n",
    "\n",
    "def myfilter(f_name,*args):\n",
    "    if len(args) == 0:\n",
    "        return None\n",
    "    \n",
    "    res=[]\n",
    "    for i in range(len(args)):\n",
    "        res.append(f_name(args[i]))\n",
    "        \n",
    "    return res\n",
    "\n",
    "          \n",
    "print(myfilter(lambda a: a%2==0, 2,1,5,7,8))  \n",
    "print(myfilter(lambda a: a%2==0)) "
   ]
  },
  {
   "cell_type": "code",
   "execution_count": 8,
   "metadata": {},
   "outputs": [
    {
     "name": "stdout",
     "output_type": "stream",
     "text": [
      "['A', 'C', 'A', 'D', 'G', 'I', 'L', 'D']\n",
      "['x', 'xx', 'xxx', 'xxxx', 'y', 'yy', 'yyy', 'yyyy', 'z', 'zz', 'zzz', 'zzzz']\n",
      "['x', 'y', 'z', 'xx', 'yy', 'zz', 'xxx', 'yyy', 'zzz', 'xxxx', 'yyyy', 'zzzz']\n",
      "[[2], [3], [4], [3], [4], [5], [4], [5], [6]]\n",
      "[[2, 3, 4, 5], [3, 4, 5, 6], [4, 5, 6, 7], [5, 6, 7, 8]]\n",
      "[(1, 1), (2, 1), (3, 1), (1, 2), (2, 2), (3, 2), (1, 3), (2, 3), (3, 3)]\n"
     ]
    }
   ],
   "source": [
    "#Task1 2\n",
    "\n",
    "s='ACADGILD'\n",
    "\n",
    "print([i for i in s])\n",
    "\n",
    "print([i*j for j in ['x', 'y', 'z'] for i in range(1, 5)])\n",
    "\n",
    "print([i*j for j in range(1, 5) for i in ['x', 'y', 'z']])\n",
    "\n",
    "print([[i+j] for j in [0, 1, 2] for i in range(2, 5)])\n",
    "\n",
    "print([[i+j for j in [0, 1, 2, 3]] for i in range(2, 6)])\n",
    "\n",
    "print([(i,j) for j in [1, 2, 3] for i in [1, 2, 3]])"
   ]
  },
  {
   "cell_type": "code",
   "execution_count": 171,
   "metadata": {
    "scrolled": true
   },
   "outputs": [
    {
     "name": "stdout",
     "output_type": "stream",
     "text": [
      "abcdef\n"
     ]
    }
   ],
   "source": [
    "#Task1 3\n",
    "\n",
    "def longest(l):\n",
    "    return reduce(lambda a,b : a if (len(a)>len(b)) else b ,l)\n",
    "\n",
    "\n",
    "print(longest([\"abc\",\"abcde\",\"ab\",\"abcdef\"]))"
   ]
  },
  {
   "cell_type": "code",
   "execution_count": 13,
   "metadata": {},
   "outputs": [
    {
     "name": "stdout",
     "output_type": "stream",
     "text": [
      "Area =  4.898979485566356\n"
     ]
    }
   ],
   "source": [
    "#Task2 1.1\n",
    "\n",
    "class first:\n",
    "    def __init__(self,a,b,c):\n",
    "        self.a=a\n",
    "        self.b=b\n",
    "        self.c=c\n",
    "\n",
    "        \n",
    "class second(first):\n",
    "    def __init__(self,s,*args):\n",
    "        super(second,self).__init__(*args)\n",
    "        self.s=s\n",
    "    \n",
    "    def area(self):\n",
    "        #print(self.s,self.a,self.b,self.c)\n",
    "        return (self.a*(self.s-self.a)*(self.s-self.b)*(self.s-self.c)) ** 0.5\n",
    "\n",
    "    \n",
    "obj = second(5,4,3,2)\n",
    "print(\"Area = \",obj.area())"
   ]
  },
  {
   "cell_type": "code",
   "execution_count": 166,
   "metadata": {},
   "outputs": [
    {
     "name": "stdout",
     "output_type": "stream",
     "text": [
      "['abc', 'abcde', 'abcdef']\n"
     ]
    }
   ],
   "source": [
    "#Task2 1.2\n",
    "\n",
    "def filter_long_words(l,n):\n",
    "    return filter(lambda x: len(x)>n, l)\n",
    "    \n",
    "\n",
    "print(list(filter_long_words([\"abc\",\"abcde\",\"ab\",\"abcdef\"],2)))"
   ]
  },
  {
   "cell_type": "code",
   "execution_count": 170,
   "metadata": {},
   "outputs": [
    {
     "name": "stdout",
     "output_type": "stream",
     "text": [
      "[3, 5, 2, 6]\n"
     ]
    }
   ],
   "source": [
    "#Task2 2.1\n",
    "\n",
    "def mapped_fun(l):\n",
    "    return map(lambda x:len(x), l)\n",
    "\n",
    "\n",
    "print(list(mapped_fun([\"abc\",\"abcde\",\"ab\",\"abcdef\"])))"
   ]
  },
  {
   "cell_type": "code",
   "execution_count": 188,
   "metadata": {},
   "outputs": [
    {
     "name": "stdout",
     "output_type": "stream",
     "text": [
      "False\n",
      "True\n"
     ]
    }
   ],
   "source": [
    "#Task2 2.2\n",
    "\n",
    "def ch_fun(ch):\n",
    "    if ch in ('a','e','i','o','u'):\n",
    "        return True\n",
    "    else:\n",
    "        return False\n",
    "\n",
    "\n",
    "print(ch_fun('b'))\n",
    "print(ch_fun('a'))"
   ]
  },
  {
   "cell_type": "code",
   "execution_count": null,
   "metadata": {},
   "outputs": [],
   "source": []
  }
 ],
 "metadata": {
  "kernelspec": {
   "display_name": "Python 3",
   "language": "python",
   "name": "python3"
  },
  "language_info": {
   "codemirror_mode": {
    "name": "ipython",
    "version": 3
   },
   "file_extension": ".py",
   "mimetype": "text/x-python",
   "name": "python",
   "nbconvert_exporter": "python",
   "pygments_lexer": "ipython3",
   "version": "3.7.7"
  }
 },
 "nbformat": 4,
 "nbformat_minor": 4
}
